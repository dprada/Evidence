{
 "cells": [
  {
   "cell_type": "code",
   "execution_count": 1,
   "id": "edfd92de-6bab-4e33-a998-371bbcf15fab",
   "metadata": {},
   "outputs": [],
   "source": [
    "%load_ext autoreload\n",
    "%autoreload 2"
   ]
  },
  {
   "cell_type": "code",
   "execution_count": 2,
   "id": "6f9ca93f-c53c-4eea-9e3c-d1a3d0801b02",
   "metadata": {},
   "outputs": [],
   "source": [
    "from evidency import Evidence"
   ]
  },
  {
   "cell_type": "code",
   "execution_count": 3,
   "id": "64579a1e-6306-44fa-bc1c-8b2ea77b1806",
   "metadata": {},
   "outputs": [],
   "source": [
    "aa = Evidence(1.0)"
   ]
  },
  {
   "cell_type": "code",
   "execution_count": 4,
   "id": "89aa9cb8-3318-4123-9386-cffd6f6c4db2",
   "metadata": {},
   "outputs": [
    {
     "data": {
      "text/plain": [
       "1.0 <0 refs.>"
      ]
     },
     "execution_count": 4,
     "metadata": {},
     "output_type": "execute_result"
    }
   ],
   "source": [
    "aa"
   ]
  },
  {
   "cell_type": "code",
   "execution_count": 5,
   "id": "642f0cc4-806e-40cd-9281-d1ed09421093",
   "metadata": {},
   "outputs": [
    {
     "name": "stdout",
     "output_type": "stream",
     "text": [
      "1.0\n"
     ]
    }
   ],
   "source": [
    "print(aa)"
   ]
  },
  {
   "cell_type": "code",
   "execution_count": 6,
   "id": "b70a6b91-f5a3-4a34-b6a6-fb7706733733",
   "metadata": {},
   "outputs": [
    {
     "data": {
      "text/plain": [
       "1.0 <0 refs.>"
      ]
     },
     "execution_count": 6,
     "metadata": {},
     "output_type": "execute_result"
    }
   ],
   "source": [
    "aa"
   ]
  },
  {
   "cell_type": "code",
   "execution_count": 7,
   "id": "5270dfdd-9ecf-4e27-9cb8-4fc187f64005",
   "metadata": {},
   "outputs": [],
   "source": [
    "bb = [aa, aa]"
   ]
  },
  {
   "cell_type": "code",
   "execution_count": 8,
   "id": "4acc3a0c-89f3-4cd6-ab87-f0e30c545858",
   "metadata": {},
   "outputs": [
    {
     "data": {
      "text/plain": [
       "[1.0 <0 refs.>, 1.0 <0 refs.>]"
      ]
     },
     "execution_count": 8,
     "metadata": {},
     "output_type": "execute_result"
    }
   ],
   "source": [
    "bb"
   ]
  },
  {
   "cell_type": "code",
   "execution_count": 9,
   "id": "422f205a-afae-4146-a6df-6bbbbfdee14f",
   "metadata": {},
   "outputs": [],
   "source": [
    "aa.add_DOI(id='XXX')\n",
    "aa.add_UniProtKB(id='ZZZ')"
   ]
  },
  {
   "cell_type": "code",
   "execution_count": 10,
   "id": "5702269d-05e9-43f4-99bd-c3c371dc3d69",
   "metadata": {},
   "outputs": [
    {
     "data": {
      "text/plain": [
       "1.0 <2 refs.>"
      ]
     },
     "execution_count": 10,
     "metadata": {},
     "output_type": "execute_result"
    }
   ],
   "source": [
    "aa"
   ]
  },
  {
   "cell_type": "code",
   "execution_count": 11,
   "id": "35f38ced-9706-48c0-9474-2f134b15c817",
   "metadata": {},
   "outputs": [
    {
     "data": {
      "text/plain": [
       "[<DOI: XXX>, <UniProtKB: ZZZ>]"
      ]
     },
     "execution_count": 11,
     "metadata": {},
     "output_type": "execute_result"
    }
   ],
   "source": [
    "aa.references"
   ]
  },
  {
   "cell_type": "code",
   "execution_count": 12,
   "id": "17706acb-17be-41c0-83eb-7a3225a95b64",
   "metadata": {},
   "outputs": [
    {
     "name": "stdout",
     "output_type": "stream",
     "text": [
      "DOI: XXX\n"
     ]
    }
   ],
   "source": [
    "print(aa.references[0])"
   ]
  },
  {
   "cell_type": "code",
   "execution_count": 13,
   "id": "6cdc5937-5dc6-4c14-b126-63e0d7df9add",
   "metadata": {},
   "outputs": [
    {
     "name": "stdout",
     "output_type": "stream",
     "text": [
      "UniProtKB: ZZZ\n"
     ]
    }
   ],
   "source": [
    "print(aa.references[1])"
   ]
  },
  {
   "cell_type": "code",
   "execution_count": null,
   "id": "e555ef03-5cfa-4d98-ba4a-54bf29941f22",
   "metadata": {},
   "outputs": [],
   "source": []
  }
 ],
 "metadata": {
  "kernelspec": {
   "display_name": "Python 3 (ipykernel)",
   "language": "python",
   "name": "python3"
  },
  "language_info": {
   "codemirror_mode": {
    "name": "ipython",
    "version": 3
   },
   "file_extension": ".py",
   "mimetype": "text/x-python",
   "name": "python",
   "nbconvert_exporter": "python",
   "pygments_lexer": "ipython3",
   "version": "3.7.10"
  }
 },
 "nbformat": 4,
 "nbformat_minor": 5
}
