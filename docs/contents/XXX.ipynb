{
 "cells": [
  {
   "cell_type": "code",
   "execution_count": 1,
   "id": "edfd92de-6bab-4e33-a998-371bbcf15fab",
   "metadata": {},
   "outputs": [],
   "source": [
    "%load_ext autoreload\n",
    "%autoreload 2"
   ]
  },
  {
   "cell_type": "code",
   "execution_count": 2,
   "id": "6f9ca93f-c53c-4eea-9e3c-d1a3d0801b02",
   "metadata": {},
   "outputs": [],
   "source": [
    "import pyunitwizard as puw"
   ]
  },
  {
   "cell_type": "code",
   "execution_count": 3,
   "id": "d5c25acb-ed56-44dd-a07b-c64e4cdd4cab",
   "metadata": {},
   "outputs": [],
   "source": [
    "puw.configure.load_library(['openmm.unit'])"
   ]
  },
  {
   "cell_type": "code",
   "execution_count": 4,
   "id": "c50e9888-50b2-4571-a47e-9abb8c0a13a6",
   "metadata": {},
   "outputs": [
    {
     "data": {
      "text/plain": [
       "True"
      ]
     },
     "execution_count": 4,
     "metadata": {},
     "output_type": "execute_result"
    }
   ],
   "source": [
    "puw.similarity('1 meter', '1 meter')"
   ]
  },
  {
   "cell_type": "code",
   "execution_count": 5,
   "id": "abb02277-2040-4a39-be28-cbfbd35b6b4c",
   "metadata": {},
   "outputs": [
    {
     "data": {
      "text/plain": [
       "False"
      ]
     },
     "execution_count": 5,
     "metadata": {},
     "output_type": "execute_result"
    }
   ],
   "source": [
    "puw.similarity('1 meter', '1 centimeter')"
   ]
  },
  {
   "cell_type": "code",
   "execution_count": 6,
   "id": "61f3f1fb-e21d-456e-8c46-a6253900ad89",
   "metadata": {},
   "outputs": [
    {
     "data": {
      "text/plain": [
       "False"
      ]
     },
     "execution_count": 6,
     "metadata": {},
     "output_type": "execute_result"
    }
   ],
   "source": [
    "puw.similarity('1 meter', '1.1 meter')"
   ]
  },
  {
   "cell_type": "code",
   "execution_count": 7,
   "id": "f6edc0d5-2c51-4bbf-8e40-8aa8543f0d2a",
   "metadata": {},
   "outputs": [],
   "source": [
    "puw.configure.reset()\n",
    "puw.configure.load_library(['pint','openmm.unit'])"
   ]
  },
  {
   "cell_type": "code",
   "execution_count": 20,
   "id": "e2a194b1-240a-4fb9-94dc-ec9bc5250e66",
   "metadata": {},
   "outputs": [
    {
     "data": {
      "text/plain": [
       "True"
      ]
     },
     "execution_count": 20,
     "metadata": {},
     "output_type": "execute_result"
    }
   ],
   "source": [
    "aa = puw.quantity(0.4,'cm')\n",
    "bb = puw.quantity(0.4,'cm')\n",
    "puw.similarity(aa,bb)"
   ]
  },
  {
   "cell_type": "code",
   "execution_count": 19,
   "id": "96f827f9-6234-4733-b203-fdc62d00dd8e",
   "metadata": {},
   "outputs": [
    {
     "data": {
      "text/plain": [
       "True"
      ]
     },
     "execution_count": 19,
     "metadata": {},
     "output_type": "execute_result"
    }
   ],
   "source": [
    "aa = puw.quantity(4,'mm')\n",
    "bb = puw.quantity(0.4,'cm')\n",
    "puw.similarity(aa,bb)"
   ]
  },
  {
   "cell_type": "code",
   "execution_count": 17,
   "id": "7944a8f6-16c7-4c0c-b000-f54c4ab1e679",
   "metadata": {},
   "outputs": [
    {
     "data": {
      "text/plain": [
       "True"
      ]
     },
     "execution_count": 17,
     "metadata": {},
     "output_type": "execute_result"
    }
   ],
   "source": [
    "aa = puw.quantity(4,'mm', form='pint')\n",
    "bb = puw.quantity(0.4,'cm', form='openmm.unit')\n",
    "puw.similarity(aa,bb)"
   ]
  },
  {
   "cell_type": "code",
   "execution_count": 18,
   "id": "dd93ff72-c4b2-49d7-a1ca-c138f67d3103",
   "metadata": {},
   "outputs": [
    {
     "data": {
      "text/plain": [
       "False"
      ]
     },
     "execution_count": 18,
     "metadata": {},
     "output_type": "execute_result"
    }
   ],
   "source": [
    "aa = puw.quantity(4,'mm', form='pint')\n",
    "bb = puw.quantity(0.41,'cm', form='openmm.unit')\n",
    "puw.similarity(aa,bb)"
   ]
  },
  {
   "cell_type": "code",
   "execution_count": null,
   "id": "1b91e072-a0b6-4234-be4e-147e19e160f7",
   "metadata": {},
   "outputs": [],
   "source": []
  }
 ],
 "metadata": {
  "kernelspec": {
   "display_name": "Python 3",
   "language": "python",
   "name": "python3"
  },
  "language_info": {
   "codemirror_mode": {
    "name": "ipython",
    "version": 3
   },
   "file_extension": ".py",
   "mimetype": "text/x-python",
   "name": "python",
   "nbconvert_exporter": "python",
   "pygments_lexer": "ipython3",
   "version": "3.7.10"
  }
 },
 "nbformat": 4,
 "nbformat_minor": 5
}
