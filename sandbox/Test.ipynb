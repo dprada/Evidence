{
 "cells": [
  {
   "cell_type": "code",
   "execution_count": 1,
   "id": "afb0b285-c379-4fef-8b85-a83ac6bf9fa5",
   "metadata": {},
   "outputs": [
    {
     "ename": "AttributeError",
     "evalue": "type object 'PubMed' has no attribute 'name'",
     "output_type": "error",
     "traceback": [
      "\u001b[0;31m---------------------------------------------------------------------------\u001b[0m",
      "\u001b[0;31mAttributeError\u001b[0m                            Traceback (most recent call last)",
      "Input \u001b[0;32mIn [1]\u001b[0m, in \u001b[0;36m<cell line: 1>\u001b[0;34m()\u001b[0m\n\u001b[0;32m----> 1\u001b[0m \u001b[38;5;28;01mimport\u001b[39;00m \u001b[38;5;21;01mevidence\u001b[39;00m \u001b[38;5;28;01mas\u001b[39;00m \u001b[38;5;21;01mevi\u001b[39;00m\n",
      "File \u001b[0;32m~/projects@dprada/Evidence/evidence/__init__.py:18\u001b[0m, in \u001b[0;36m<module>\u001b[0;34m\u001b[0m\n\u001b[1;32m     14\u001b[0m __github_web__ \u001b[38;5;241m=\u001b[39m \u001b[38;5;124m'\u001b[39m\u001b[38;5;124mhttps://github.com/uibcdf/evidence\u001b[39m\u001b[38;5;124m'\u001b[39m\n\u001b[1;32m     15\u001b[0m __github_issues_web__ \u001b[38;5;241m=\u001b[39m __github_web__ \u001b[38;5;241m+\u001b[39m \u001b[38;5;124m'\u001b[39m\u001b[38;5;124m/issues\u001b[39m\u001b[38;5;124m'\u001b[39m\n\u001b[0;32m---> 18\u001b[0m \u001b[38;5;28;01mfrom\u001b[39;00m \u001b[38;5;21;01m.\u001b[39;00m\u001b[38;5;21;01mevidence\u001b[39;00m \u001b[38;5;28;01mimport\u001b[39;00m Evidence\n\u001b[1;32m     19\u001b[0m \u001b[38;5;28;01mfrom\u001b[39;00m \u001b[38;5;21;01m.\u001b[39;00m \u001b[38;5;28;01mimport\u001b[39;00m reference\n\u001b[1;32m     20\u001b[0m \u001b[38;5;28;01mfrom\u001b[39;00m \u001b[38;5;21;01m.\u001b[39;00m\u001b[38;5;21;01mmain\u001b[39;00m \u001b[38;5;28;01mimport\u001b[39;00m identity, is_subset, same_value, join\n",
      "File \u001b[0;32m~/projects@dprada/Evidence/evidence/evidence.py:1\u001b[0m, in \u001b[0;36m<module>\u001b[0;34m\u001b[0m\n\u001b[0;32m----> 1\u001b[0m \u001b[38;5;28;01mfrom\u001b[39;00m \u001b[38;5;21;01m.\u001b[39;00m \u001b[38;5;28;01mimport\u001b[39;00m reference \u001b[38;5;28;01mas\u001b[39;00m refs\n\u001b[1;32m      3\u001b[0m \u001b[38;5;28;01mclass\u001b[39;00m \u001b[38;5;21;01mEvidence\u001b[39;00m():\n\u001b[1;32m      5\u001b[0m     \u001b[38;5;28;01mdef\u001b[39;00m \u001b[38;5;21m__init__\u001b[39m(\u001b[38;5;28mself\u001b[39m, value\u001b[38;5;241m=\u001b[39m\u001b[38;5;28;01mNone\u001b[39;00m):\n",
      "File \u001b[0;32m~/projects@dprada/Evidence/evidence/reference/__init__.py:17\u001b[0m, in \u001b[0;36m<module>\u001b[0;34m\u001b[0m\n\u001b[1;32m     13\u001b[0m     mod \u001b[38;5;241m=\u001b[39m import_module(\u001b[38;5;124m'\u001b[39m\u001b[38;5;124mevidence.reference.\u001b[39m\u001b[38;5;124m'\u001b[39m\u001b[38;5;241m+\u001b[39mref_name)\n\u001b[1;32m     15\u001b[0m     ref \u001b[38;5;241m=\u001b[39m \u001b[38;5;28mgetattr\u001b[39m(mod, ref_name)\n\u001b[0;32m---> 17\u001b[0m     _dict_ref[\u001b[43mref\u001b[49m\u001b[38;5;241;43m.\u001b[39;49m\u001b[43mname\u001b[49m]\u001b[38;5;241m=\u001b[39mref\n\u001b[1;32m     18\u001b[0m     \u001b[38;5;28mlocals\u001b[39m()[ref_name]\u001b[38;5;241m=\u001b[39mref\n\u001b[1;32m     20\u001b[0m \u001b[38;5;28;01mdel\u001b[39;00m(current_dir, excluded_files, list_refs, ref_name, mod, ref)\n",
      "\u001b[0;31mAttributeError\u001b[0m: type object 'PubMed' has no attribute 'name'"
     ]
    }
   ],
   "source": [
    "import evidence as evi"
   ]
  },
  {
   "cell_type": "code",
   "execution_count": null,
   "id": "41052dad-41c2-4bb0-8065-d85ae39ee95a",
   "metadata": {},
   "outputs": [],
   "source": [
    "aa = evi.reference.BindingDB()"
   ]
  },
  {
   "cell_type": "code",
   "execution_count": null,
   "id": "f100ba66-5f2d-4d29-925c-98cd0f79ef0c",
   "metadata": {},
   "outputs": [],
   "source": [
    "bb = evi.reference._dict_ref['BindingDB']()"
   ]
  },
  {
   "cell_type": "code",
   "execution_count": null,
   "id": "7f315e9a-aeaa-49d4-807a-12ac2f91c56a",
   "metadata": {},
   "outputs": [],
   "source": [
    "aa._repr_html_()"
   ]
  },
  {
   "cell_type": "code",
   "execution_count": null,
   "id": "45959306-5b1a-4a91-8d30-591e2ebd3532",
   "metadata": {},
   "outputs": [],
   "source": [
    "bb._repr_html_()"
   ]
  },
  {
   "cell_type": "code",
   "execution_count": null,
   "id": "d72a37f7-ff34-448a-ba25-ef37c179a695",
   "metadata": {},
   "outputs": [],
   "source": []
  }
 ],
 "metadata": {
  "kernelspec": {
   "display_name": "Python 3 (ipykernel)",
   "language": "python",
   "name": "python3"
  },
  "language_info": {
   "codemirror_mode": {
    "name": "ipython",
    "version": 3
   },
   "file_extension": ".py",
   "mimetype": "text/x-python",
   "name": "python",
   "nbconvert_exporter": "python",
   "pygments_lexer": "ipython3",
   "version": "3.9.13"
  }
 },
 "nbformat": 4,
 "nbformat_minor": 5
}
