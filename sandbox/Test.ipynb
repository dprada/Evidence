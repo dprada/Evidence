{
 "cells": [
  {
   "cell_type": "code",
   "execution_count": 1,
   "id": "afb0b285-c379-4fef-8b85-a83ac6bf9fa5",
   "metadata": {},
   "outputs": [
    {
     "ename": "IndentationError",
     "evalue": "expected an indented block (evidence.py, line 123)",
     "output_type": "error",
     "traceback": [
      "Traceback \u001b[0;36m(most recent call last)\u001b[0m:\n",
      "  File \u001b[1;32m~/MyMachine/locals/miniconda3/envs/Evidence@dprada_3.9/lib/python3.9/site-packages/IPython/core/interactiveshell.py:3398\u001b[0m in \u001b[1;35mrun_code\u001b[0m\n    exec(code_obj, self.user_global_ns, self.user_ns)\n",
      "  Input \u001b[1;32mIn [1]\u001b[0m in \u001b[1;35m<cell line: 1>\u001b[0m\n    import evidence as evi\n",
      "\u001b[0;36m  File \u001b[0;32m~/projects@dprada/Evidence/evidence/__init__.py:18\u001b[0;36m in \u001b[0;35m<module>\u001b[0;36m\u001b[0m\n\u001b[0;31m    from .evidence import Evidence\u001b[0m\n",
      "\u001b[0;36m  File \u001b[0;32m~/projects@dprada/Evidence/evidence/evidence.py:123\u001b[0;36m\u001b[0m\n\u001b[0;31m    def __deepcopy__(self):\u001b[0m\n\u001b[0m    ^\u001b[0m\n\u001b[0;31mIndentationError\u001b[0m\u001b[0;31m:\u001b[0m expected an indented block\n"
     ]
    }
   ],
   "source": [
    "import evidence as evi"
   ]
  },
  {
   "cell_type": "code",
   "execution_count": null,
   "id": "820e2f69-22cb-4cf7-8b15-ae5cd9338027",
   "metadata": {},
   "outputs": [],
   "source": [
    "evi.reference._dict_ref"
   ]
  },
  {
   "cell_type": "code",
   "execution_count": null,
   "id": "45f25421-c250-4241-a126-f48a00b8a5e2",
   "metadata": {},
   "outputs": [],
   "source": [
    "evi.reference.add_database(name='XXX YYY')"
   ]
  },
  {
   "cell_type": "code",
   "execution_count": null,
   "id": "1051f2d5-872e-4879-b002-92c7c899c46b",
   "metadata": {},
   "outputs": [],
   "source": [
    "evi.reference._dict_ref"
   ]
  },
  {
   "cell_type": "code",
   "execution_count": null,
   "id": "4c3fa107-cc1c-454e-b06c-b08e298c49df",
   "metadata": {},
   "outputs": [],
   "source": [
    "evi.reference.XXX_YYY()"
   ]
  },
  {
   "cell_type": "code",
   "execution_count": null,
   "id": "1549de49-0785-476d-b248-797ea2feffe4",
   "metadata": {},
   "outputs": [],
   "source": [
    "aa = evi.reference._dict_ref['XXX YYY']()"
   ]
  },
  {
   "cell_type": "code",
   "execution_count": null,
   "id": "e5eb588c-e562-4c53-866a-1474aab179d4",
   "metadata": {},
   "outputs": [],
   "source": [
    "aa._repr_html_()"
   ]
  },
  {
   "cell_type": "code",
   "execution_count": null,
   "id": "8a18874d-5661-4ea3-8307-bb9b3c6a0aba",
   "metadata": {},
   "outputs": [],
   "source": [
    "aa"
   ]
  },
  {
   "cell_type": "code",
   "execution_count": null,
   "id": "8a2ad6c3-87a3-4557-be32-0b7c72e98737",
   "metadata": {},
   "outputs": [],
   "source": []
  }
 ],
 "metadata": {
  "kernelspec": {
   "display_name": "Python 3 (ipykernel)",
   "language": "python",
   "name": "python3"
  },
  "language_info": {
   "codemirror_mode": {
    "name": "ipython",
    "version": 3
   },
   "file_extension": ".py",
   "mimetype": "text/x-python",
   "name": "python",
   "nbconvert_exporter": "python",
   "pygments_lexer": "ipython3",
   "version": "3.9.13"
  }
 },
 "nbformat": 4,
 "nbformat_minor": 5
}
