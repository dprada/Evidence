{
 "cells": [
  {
   "cell_type": "code",
   "execution_count": 1,
   "id": "afb0b285-c379-4fef-8b85-a83ac6bf9fa5",
   "metadata": {},
   "outputs": [],
   "source": [
    "import evidence as evi"
   ]
  },
  {
   "cell_type": "code",
   "execution_count": 2,
   "id": "820e2f69-22cb-4cf7-8b15-ae5cd9338027",
   "metadata": {},
   "outputs": [
    {
     "data": {
      "text/plain": [
       "{'PhosphoSitePlus': evidence.reference.PhosphoSitePlus.PhosphoSitePlus,\n",
       " 'UniProtKB': evidence.reference.UniProtKB.UniProtKB,\n",
       " 'MobiDB': evidence.reference.MobiDB.MobiDB,\n",
       " 'PubMed': evidence.reference.PubMed.PubMed,\n",
       " 'Pfam': evidence.reference.Pfam.Pfam,\n",
       " 'PDB': evidence.reference.PDB.PDB,\n",
       " 'ProDom': evidence.reference.ProDom.ProDom,\n",
       " 'PROSITE ProRule': evidence.reference.PROSITE_ProRule.PROSITE_ProRule,\n",
       " 'ChEMBL': evidence.reference.ChEMBL.ChEMBL,\n",
       " 'Rhea': evidence.reference.Rhea.Rhea,\n",
       " 'ELM': evidence.reference.ELM.ELM,\n",
       " 'ChEBI': evidence.reference.ChEBI.ChEBI,\n",
       " 'DOI': evidence.reference.DOI.DOI,\n",
       " 'InterPro': evidence.reference.InterPro.InterPro,\n",
       " 'IntAct': evidence.reference.IntAct.IntAct,\n",
       " 'OMIM': evidence.reference.OMIM.OMIM,\n",
       " 'BioGrid': evidence.reference.BioGRID.BioGRID,\n",
       " 'NCBI Taxonomy': evidence.reference.NCBI_Taxonomy.NCBI_Taxonomy,\n",
       " 'SUPERFAMILY': evidence.reference.SUPERFAMILY.SUPERFAMILY,\n",
       " 'DIP': evidence.reference.DIP.DIP,\n",
       " 'SwissModel': evidence.reference.SwissModel.SwissModel,\n",
       " 'BindingDB': evidence.reference.BindingDB.BindingDB,\n",
       " 'EC': evidence.reference.EC.EC,\n",
       " 'STRING': evidence.reference.STRING.STRING,\n",
       " 'Journal article': evidence.reference.JournalArticle.JournalArticle,\n",
       " 'iPTMnet': evidence.reference.iPTMnet.iPTMnet,\n",
       " 'Uniprot Diseases': evidence.reference.UniProt_Diseases.UniProt_Diseases,\n",
       " 'MINT': evidence.reference.MINT.MINT}"
      ]
     },
     "execution_count": 2,
     "metadata": {},
     "output_type": "execute_result"
    }
   ],
   "source": [
    "evi.reference._dict_ref"
   ]
  },
  {
   "cell_type": "code",
   "execution_count": 3,
   "id": "45f25421-c250-4241-a126-f48a00b8a5e2",
   "metadata": {},
   "outputs": [],
   "source": [
    "evi.reference.add_database(name='XXX YYY')"
   ]
  },
  {
   "cell_type": "code",
   "execution_count": 4,
   "id": "1051f2d5-872e-4879-b002-92c7c899c46b",
   "metadata": {},
   "outputs": [
    {
     "data": {
      "text/plain": [
       "{'PhosphoSitePlus': evidence.reference.PhosphoSitePlus.PhosphoSitePlus,\n",
       " 'UniProtKB': evidence.reference.UniProtKB.UniProtKB,\n",
       " 'MobiDB': evidence.reference.MobiDB.MobiDB,\n",
       " 'PubMed': evidence.reference.PubMed.PubMed,\n",
       " 'Pfam': evidence.reference.Pfam.Pfam,\n",
       " 'PDB': evidence.reference.PDB.PDB,\n",
       " 'ProDom': evidence.reference.ProDom.ProDom,\n",
       " 'PROSITE ProRule': evidence.reference.PROSITE_ProRule.PROSITE_ProRule,\n",
       " 'ChEMBL': evidence.reference.ChEMBL.ChEMBL,\n",
       " 'Rhea': evidence.reference.Rhea.Rhea,\n",
       " 'ELM': evidence.reference.ELM.ELM,\n",
       " 'ChEBI': evidence.reference.ChEBI.ChEBI,\n",
       " 'DOI': evidence.reference.DOI.DOI,\n",
       " 'InterPro': evidence.reference.InterPro.InterPro,\n",
       " 'IntAct': evidence.reference.IntAct.IntAct,\n",
       " 'OMIM': evidence.reference.OMIM.OMIM,\n",
       " 'BioGrid': evidence.reference.BioGRID.BioGRID,\n",
       " 'NCBI Taxonomy': evidence.reference.NCBI_Taxonomy.NCBI_Taxonomy,\n",
       " 'SUPERFAMILY': evidence.reference.SUPERFAMILY.SUPERFAMILY,\n",
       " 'DIP': evidence.reference.DIP.DIP,\n",
       " 'SwissModel': evidence.reference.SwissModel.SwissModel,\n",
       " 'BindingDB': evidence.reference.BindingDB.BindingDB,\n",
       " 'EC': evidence.reference.EC.EC,\n",
       " 'STRING': evidence.reference.STRING.STRING,\n",
       " 'Journal article': evidence.reference.JournalArticle.JournalArticle,\n",
       " 'iPTMnet': evidence.reference.iPTMnet.iPTMnet,\n",
       " 'Uniprot Diseases': evidence.reference.UniProt_Diseases.UniProt_Diseases,\n",
       " 'MINT': evidence.reference.MINT.MINT,\n",
       " 'XXX YYY': evidence.reference.XXX_YYY}"
      ]
     },
     "execution_count": 4,
     "metadata": {},
     "output_type": "execute_result"
    }
   ],
   "source": [
    "evi.reference._dict_ref"
   ]
  },
  {
   "cell_type": "code",
   "execution_count": 5,
   "id": "4c3fa107-cc1c-454e-b06c-b08e298c49df",
   "metadata": {},
   "outputs": [
    {
     "ename": "AttributeError",
     "evalue": "module 'evidence.reference' has no attribute 'XXX_YYY'",
     "output_type": "error",
     "traceback": [
      "\u001b[0;31m---------------------------------------------------------------------------\u001b[0m",
      "\u001b[0;31mAttributeError\u001b[0m                            Traceback (most recent call last)",
      "Input \u001b[0;32mIn [5]\u001b[0m, in \u001b[0;36m<cell line: 1>\u001b[0;34m()\u001b[0m\n\u001b[0;32m----> 1\u001b[0m \u001b[43mevi\u001b[49m\u001b[38;5;241;43m.\u001b[39;49m\u001b[43mreference\u001b[49m\u001b[38;5;241;43m.\u001b[39;49m\u001b[43mXXX_YYY\u001b[49m()\n",
      "\u001b[0;31mAttributeError\u001b[0m: module 'evidence.reference' has no attribute 'XXX_YYY'"
     ]
    }
   ],
   "source": [
    "evi.reference.XXX_YYY()"
   ]
  },
  {
   "cell_type": "code",
   "execution_count": 6,
   "id": "1549de49-0785-476d-b248-797ea2feffe4",
   "metadata": {},
   "outputs": [],
   "source": [
    "aa = evi.reference._dict_ref['XXX YYY']()"
   ]
  },
  {
   "cell_type": "code",
   "execution_count": 8,
   "id": "e5eb588c-e562-4c53-866a-1474aab179d4",
   "metadata": {},
   "outputs": [
    {
     "data": {
      "text/plain": [
       "'<a href=\"None\">XXX YYY: None</a>'"
      ]
     },
     "execution_count": 8,
     "metadata": {},
     "output_type": "execute_result"
    }
   ],
   "source": [
    "aa._repr_html_()"
   ]
  },
  {
   "cell_type": "code",
   "execution_count": 9,
   "id": "8a18874d-5661-4ea3-8307-bb9b3c6a0aba",
   "metadata": {},
   "outputs": [
    {
     "data": {
      "text/html": [
       "<a href=\"None\">XXX YYY: None</a>"
      ],
      "text/plain": [
       "<XXX YYY: None>"
      ]
     },
     "execution_count": 9,
     "metadata": {},
     "output_type": "execute_result"
    }
   ],
   "source": [
    "aa"
   ]
  },
  {
   "cell_type": "code",
   "execution_count": null,
   "id": "8a2ad6c3-87a3-4557-be32-0b7c72e98737",
   "metadata": {},
   "outputs": [],
   "source": []
  }
 ],
 "metadata": {
  "kernelspec": {
   "display_name": "Python 3 (ipykernel)",
   "language": "python",
   "name": "python3"
  },
  "language_info": {
   "codemirror_mode": {
    "name": "ipython",
    "version": 3
   },
   "file_extension": ".py",
   "mimetype": "text/x-python",
   "name": "python",
   "nbconvert_exporter": "python",
   "pygments_lexer": "ipython3",
   "version": "3.9.13"
  }
 },
 "nbformat": 4,
 "nbformat_minor": 5
}
