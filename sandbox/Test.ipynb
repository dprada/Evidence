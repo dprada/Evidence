{
 "cells": [
  {
   "cell_type": "code",
   "execution_count": 1,
   "id": "afb0b285-c379-4fef-8b85-a83ac6bf9fa5",
   "metadata": {},
   "outputs": [],
   "source": [
    "import evidence as evi"
   ]
  },
  {
   "cell_type": "code",
   "execution_count": 2,
   "id": "4d8adea0-441c-47bc-9168-374a94b6e398",
   "metadata": {},
   "outputs": [],
   "source": [
    "from evidence.reference import add_database"
   ]
  },
  {
   "cell_type": "code",
   "execution_count": null,
   "id": "34d3a5db-180c-4891-a6e6-6bc3cfd60afc",
   "metadata": {},
   "outputs": [],
   "source": [
    "evi.reference"
   ]
  },
  {
   "cell_type": "code",
   "execution_count": 3,
   "id": "8a2ad6c3-87a3-4557-be32-0b7c72e98737",
   "metadata": {},
   "outputs": [
    {
     "data": {
      "text/plain": [
       "{'PhosphoSitePlus': 'PhosphoSitePlus',\n",
       " 'UniProtKB': 'UniProtKB',\n",
       " 'MobiDB': 'MobiDB',\n",
       " 'PubMed': 'PubMed',\n",
       " 'Pfam': 'Pfam',\n",
       " 'PDB': 'PDB',\n",
       " 'ProDom': 'ProDom',\n",
       " 'PROSITE ProRule': 'PROSITE ProRule',\n",
       " 'PROSITE_ProRule': 'PROSITE ProRule',\n",
       " 'ChEMBL': 'ChEMBL',\n",
       " 'Rhea': 'Rhea',\n",
       " 'ELM': 'ELM',\n",
       " 'ChEBI': 'ChEBI',\n",
       " 'DOI': 'DOI',\n",
       " 'InterPro': 'InterPro',\n",
       " 'IntAct': 'IntAct',\n",
       " 'OMIM': 'OMIM',\n",
       " 'BioGrid': 'BioGrid',\n",
       " 'NCBI Taxonomy': 'NCBI Taxonomy',\n",
       " 'NCBI_Taxonomy': 'NCBI Taxonomy',\n",
       " 'SUPERFAMILY': 'SUPERFAMILY',\n",
       " 'DIP': 'DIP',\n",
       " 'SMR': 'SMR',\n",
       " 'SwissModel': 'SMR',\n",
       " 'BindingDB': 'BindingDB',\n",
       " 'EC': 'EC',\n",
       " 'STRING': 'STRING',\n",
       " 'HGNC': 'HGNC',\n",
       " 'Journal article': 'Journal article',\n",
       " 'iPTMnet': 'iPTMnet',\n",
       " 'UniProt Diseases': 'UniProt Diseases',\n",
       " 'UniProt_Diseases': 'UniProt Diseases',\n",
       " 'MINT': 'MINT'}"
      ]
     },
     "execution_count": 3,
     "metadata": {},
     "output_type": "execute_result"
    }
   ],
   "source": [
    "evi.reference._dict_keyname"
   ]
  },
  {
   "cell_type": "code",
   "execution_count": null,
   "id": "bb1dbc8e-461d-4ce6-9e14-dd64829e765f",
   "metadata": {},
   "outputs": [],
   "source": [
    "evi.reference._dict_class"
   ]
  },
  {
   "cell_type": "code",
   "execution_count": null,
   "id": "499fe6d7-38c7-4696-a264-ffa36467bb82",
   "metadata": {},
   "outputs": [],
   "source": []
  },
  {
   "cell_type": "code",
   "execution_count": null,
   "id": "9473c7f5-6cd9-419f-8570-63c98b5fadab",
   "metadata": {},
   "outputs": [],
   "source": [
    "from evidence.main import is_reference"
   ]
  },
  {
   "cell_type": "code",
   "execution_count": null,
   "id": "137eac10-5f15-4542-9fc4-a307953dbf8d",
   "metadata": {},
   "outputs": [],
   "source": [
    "is_reference({'database'})"
   ]
  }
 ],
 "metadata": {
  "kernelspec": {
   "display_name": "Python 3 (ipykernel)",
   "language": "python",
   "name": "python3"
  },
  "language_info": {
   "codemirror_mode": {
    "name": "ipython",
    "version": 3
   },
   "file_extension": ".py",
   "mimetype": "text/x-python",
   "name": "python",
   "nbconvert_exporter": "python",
   "pygments_lexer": "ipython3",
   "version": "3.9.13"
  }
 },
 "nbformat": 4,
 "nbformat_minor": 5
}
